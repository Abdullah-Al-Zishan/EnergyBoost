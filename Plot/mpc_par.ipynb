{
 "cells": [
  {
   "cell_type": "code",
   "execution_count": 1,
   "metadata": {},
   "outputs": [],
   "source": [
    "import pandas as pd\n",
    "import numpy as np\n",
    "import matplotlib.pyplot as plt\n",
    "import csv"
   ]
  },
  {
   "cell_type": "code",
   "execution_count": 2,
   "metadata": {},
   "outputs": [],
   "source": [
    "hhids=['1202', '871', '1103', '585', '59', '2755', '2233', '86', '114', '2575', '1700', '974', '1800',\n",
    " '370', '187', '1169', '1718', '545', '94', '2018', '744', '2859', '2925', '484', '2953', '171', '2818', '1953',\n",
    " '1697', '1463', '499', '1790', '1507', '1642', '93', '1632',\n",
    " '1500', '2472', '2072', '2378', '1415', '2986', '1403', '2945', '77', '1792',\n",
    " '624', '379', '2557', '890', '1192', '26', '2787', '2965', '2980', '434', '2829',\n",
    " '503', '2532', '946', '2401', '1801','2337','1086','1714','1283','252','2814']\n",
    "\n",
    "scenarios=[\"sb4b64\",\"sb4b135\",\"sb8b64\",\"sb8b135\",\"sb10b64\",\"sb10b135\",\"sb20b64\",\"sb20b135\"]"
   ]
  },
  {
   "cell_type": "code",
   "execution_count": 3,
   "metadata": {},
   "outputs": [
    {
     "name": "stdout",
     "output_type": "stream",
     "text": [
      "In scenario panel4.4sb4b64 the PAR is 4.618241022959543\n",
      "In scenario panel4.4sb4b135 the PAR is 5.438555478889753\n",
      "In scenario panel4.4sb8b64 the PAR is 4.029488255174143\n",
      "In scenario panel4.4sb8b135 the PAR is 4.630931691239688\n",
      "In scenario panel4.4sb10b64 the PAR is 4.003844250768532\n",
      "In scenario panel4.4sb10b135 the PAR is 5.329611743976439\n",
      "In scenario panel4.4sb20b64 the PAR is 4.109434445545077\n",
      "In scenario panel4.4sb20b135 the PAR is 5.593905353859708\n",
      "In scenario panel8.8sb4b64 the PAR is 5.661521483857602\n",
      "In scenario panel8.8sb4b135 the PAR is 6.310108195327693\n",
      "In scenario panel8.8sb8b64 the PAR is 4.304800504444785\n",
      "In scenario panel8.8sb8b135 the PAR is 5.334178259401537\n",
      "In scenario panel8.8sb10b64 the PAR is 4.28611074846578\n",
      "In scenario panel8.8sb10b135 the PAR is 5.472495882314967\n",
      "In scenario panel8.8sb20b64 the PAR is 4.357719491914956\n",
      "In scenario panel8.8sb20b135 the PAR is 5.568452559824848\n"
     ]
    }
   ],
   "source": [
    "for j in scenarios:\n",
    "    #print(\"In scenarios\",j)\n",
    "    total_grid=np.zeros(8568)\n",
    "    for i in hhids:\n",
    "        home_grid=pd.read_csv('mpc_2_par/{}_2_mpc_par/{}.csv'.format(i,j))['Grid']\n",
    "        total_grid = total_grid + home_grid\n",
    "        #total_grid = np.abs(total_grid)\n",
    "        total_grid = np.clip(total_grid,a_min=0,a_max=None)\n",
    "    par = (np.max(total_grid)) / (np.mean(total_grid))\n",
    "    print(\"In scenario panel4.4{} the PAR is {}\".format(j,par))\n",
    "for j in scenarios:\n",
    "    #print(\"In scenarios\",j)\n",
    "    total_grid=np.zeros(8568)\n",
    "    for i in hhids:\n",
    "        home_grid=pd.read_csv('mpc_4_par/{}_4_mpc_par/{}.csv'.format(i,j))['Grid']\n",
    "        total_grid = total_grid + home_grid\n",
    "        #total_grid = np.abs(total_grid)\n",
    "        total_grid = np.clip(total_grid,a_min=0,a_max=None)\n",
    "    par = (np.max(total_grid)) / (np.mean(total_grid))\n",
    "    print(\"In scenario panel8.8{} the PAR is {}\".format(j,par))\n",
    "    "
   ]
  },
  {
   "cell_type": "code",
   "execution_count": null,
   "metadata": {},
   "outputs": [],
   "source": []
  },
  {
   "cell_type": "code",
   "execution_count": null,
   "metadata": {},
   "outputs": [],
   "source": []
  }
 ],
 "metadata": {
  "kernelspec": {
   "display_name": "Python 3",
   "language": "python",
   "name": "python3"
  },
  "language_info": {
   "codemirror_mode": {
    "name": "ipython",
    "version": 3
   },
   "file_extension": ".py",
   "mimetype": "text/x-python",
   "name": "python",
   "nbconvert_exporter": "python",
   "pygments_lexer": "ipython3",
   "version": "3.6.8"
  }
 },
 "nbformat": 4,
 "nbformat_minor": 2
}
