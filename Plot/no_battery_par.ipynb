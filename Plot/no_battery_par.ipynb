{
 "cells": [
  {
   "cell_type": "code",
   "execution_count": 1,
   "metadata": {},
   "outputs": [],
   "source": [
    "import pandas as pd\n",
    "import numpy as np\n",
    "import matplotlib.pyplot as plt\n",
    "import csv"
   ]
  },
  {
   "cell_type": "code",
   "execution_count": 2,
   "metadata": {},
   "outputs": [],
   "source": [
    "hhids=['1202', '871', '1103', '585', '59', '2755', '2233', '86', '114', '2575', '1700', '974', '1800',\n",
    " '370', '187', '1169', '1718', '545', '94', '2018', '744', '2859', '2925', '484', '2953', '171', '2818', '1953',\n",
    " '1697', '1463', '499', '1790', '1507', '1642', '93', '1632',\n",
    " '1500', '2472', '2072', '2378', '1415', '2986', '1403', '2945', '77', '1792',\n",
    " '624', '379', '2557', '890', '1192', '26', '2787', '2965', '2980', '434', '2829',\n",
    " '503', '2532', '946', '2401', '1801','2337','1086','1714','1283','252','2814']\n",
    "\n",
    "scenarios=[\"sb4b0\",\"sb8b0\",\"sb10b0\",\"sb20b0\"]"
   ]
  },
  {
   "cell_type": "code",
   "execution_count": 3,
   "metadata": {},
   "outputs": [
    {
     "name": "stdout",
     "output_type": "stream",
     "text": [
      "In scenario panel4.4sb4b0 the PAR is 3.842272826690548\n",
      "In scenario panel4.4sb8b0 the PAR is 3.842272826690548\n",
      "In scenario panel4.4sb10b0 the PAR is 3.842272826690548\n",
      "In scenario panel4.4sb20b0 the PAR is 3.842272826690548\n",
      "In scenario panel8.8sb4b0 the PAR is 4.313695618527146\n",
      "In scenario panel8.8sb8b0 the PAR is 4.313695618527146\n",
      "In scenario panel8.8sb10b0 the PAR is 4.313695618527146\n",
      "In scenario panel8.8sb20b0 the PAR is 4.313695618527146\n"
     ]
    }
   ],
   "source": [
    "for j in scenarios:\n",
    "    #print(\"In scenarios\",j)\n",
    "    total_grid=np.zeros(8568)\n",
    "    for i in hhids:\n",
    "        home_grid=pd.read_csv('nostorage_2/{}_2_nostorage/{}.csv'.format(i,j))['Base_Grid'][168:8736]\n",
    "        total_grid = total_grid + home_grid\n",
    "        #total_grid = np.abs(total_grid)\n",
    "        total_grid = np.clip(total_grid,a_min=0,a_max=None)\n",
    "    par = (np.max(total_grid)) / (np.mean(total_grid))\n",
    "    print(\"In scenario panel4.4{} the PAR is {}\".format(j,par))\n",
    "for j in scenarios:\n",
    "    #print(\"In scenarios\",j)\n",
    "    total_grid=np.zeros(8568)\n",
    "    for i in hhids:\n",
    "        home_grid=pd.read_csv('nostorage_4/{}_4_nostorage/{}.csv'.format(i,j))['Base_Grid'][168:8736]\n",
    "        total_grid = total_grid + home_grid\n",
    "        #total_grid = np.abs(total_grid)\n",
    "        total_grid = np.clip(total_grid,a_min=0,a_max=None)\n",
    "    par = (np.max(total_grid)) / (np.mean(total_grid))\n",
    "    print(\"In scenario panel8.8{} the PAR is {}\".format(j,par))\n",
    "    "
   ]
  },
  {
   "cell_type": "code",
   "execution_count": null,
   "metadata": {},
   "outputs": [],
   "source": []
  },
  {
   "cell_type": "code",
   "execution_count": null,
   "metadata": {},
   "outputs": [],
   "source": []
  }
 ],
 "metadata": {
  "kernelspec": {
   "display_name": "Python 3",
   "language": "python",
   "name": "python3"
  },
  "language_info": {
   "codemirror_mode": {
    "name": "ipython",
    "version": 3
   },
   "file_extension": ".py",
   "mimetype": "text/x-python",
   "name": "python",
   "nbconvert_exporter": "python",
   "pygments_lexer": "ipython3",
   "version": "3.6.8"
  }
 },
 "nbformat": 4,
 "nbformat_minor": 2
}
